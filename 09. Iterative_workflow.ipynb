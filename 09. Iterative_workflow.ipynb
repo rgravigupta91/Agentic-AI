{
 "cells": [
  {
   "cell_type": "code",
   "execution_count": 5,
   "id": "7a6ffed9",
   "metadata": {},
   "outputs": [
    {
     "data": {
      "text/plain": [
       "True"
      ]
     },
     "execution_count": 5,
     "metadata": {},
     "output_type": "execute_result"
    }
   ],
   "source": [
    "from langgraph.graph import StateGraph, START, END\n",
    "from typing import TypedDict, Literal, Annotated\n",
    "from langchain_openai import ChatOpenAI\n",
    "from langchain_core.messages import HumanMessage, SystemMessage\n",
    "from dotenv import load_dotenv\n",
    "from pydantic import BaseModel, Field\n",
    "load_dotenv()"
   ]
  },
  {
   "cell_type": "code",
   "execution_count": 2,
   "metadata": {},
   "outputs": [],
   "source": [
    "generator_llm = ChatOpenAI(model='gpt-4o')\n",
    "evaluator_llm = ChatOpenAI(model='gpt-4o-mini')\n",
    "optimizer_llm = ChatOpenAI(model='gpt-40')"
   ]
  },
  {
   "cell_type": "code",
   "execution_count": 3,
   "id": "e10c5b7f",
   "metadata": {},
   "outputs": [],
   "source": [
    "# state\n",
    "class TweetState(TypedDict):\n",
    "    topic:str\n",
    "    tweet:str\n",
    "    evaluation:Literal[\"Approved\",\"Needs_Improvement\"]\n",
    "    feedback: str\n",
    "    iteration: int\n",
    "    max_iteration: int"
   ]
  },
  {
   "cell_type": "code",
   "execution_count": 4,
   "id": "6fce398b",
   "metadata": {},
   "outputs": [],
   "source": [
    "def generate_tweet(state:TweetState):\n",
    "    # prompt\n",
    "    message = [\n",
    "        SystemMessage(content=\"You are a funny and cleaver Twitter/X influencer.\"),\n",
    "        HumanMessage(content=f\"\"\"\n",
    "        Write a short, original, and hilarious tweet on the topic: \"{state['topic']}\".\n",
    "\n",
    "        Rules:\n",
    "        - Do NOT use question-answer format.\n",
    "        - Max 280 characters.\n",
    "        - Use observational humor, irony, sarcasm, or cultural references.\n",
    "        - Think in meme logic, punchlines, or relatable takes.\n",
    "        - Use simple, day to day english\"\"\"\n",
    "#        - This is version {state['iteration'] + 1}.\n",
    "        )\n",
    "    ]\n",
    "\n",
    "    # send llm request\n",
    "    response = generator_llm.invoke(message).content\n",
    "\n",
    "    # return response\n",
    "    return {'tweet': response}"
   ]
  },
  {
   "cell_type": "code",
   "execution_count": 6,
   "id": "3ba82a9e",
   "metadata": {},
   "outputs": [],
   "source": [
    "class TweetEvaluation(BaseModel):\n",
    "    evaluation: Literal[\"Approved\",\"Needs_Improvement\"] = Field(...,description=\"Final evaluation result.\")\n",
    "    feedback: str = Field(..., description=\"Constructive feedback for the tweet.\")\n",
    "    #score: int = Field(..., ge=0, le=5, description=\"Total score from rubric (0 to 5).\") \n",
    "\n",
    "structured_evaluator_llm = evaluator_llm.with_structured_output(TweetEvaluation)"
   ]
  },
  {
   "cell_type": "code",
   "execution_count": null,
   "id": "eac5ef8a",
   "metadata": {},
   "outputs": [],
   "source": [
    "def evaluate_tweet(state:TweetState):\n",
    "    # prompt\n",
    "    messages = [\n",
    "        SystemMessage(content=\"\"),\n",
    "        HumanMessage(content=f\"\"\"\n",
    "        \"\"\")\n",
    "    ]\n",
    "    structured_evaluator_llm.invoke(messages)"
   ]
  },
  {
   "cell_type": "code",
   "execution_count": null,
   "id": "70d07ec1",
   "metadata": {},
   "outputs": [],
   "source": [
    "def optimize_tweet(state:TweetState):\n",
    "    return True"
   ]
  },
  {
   "cell_type": "code",
   "execution_count": null,
   "id": "48cfacf5",
   "metadata": {},
   "outputs": [],
   "source": [
    "# define graph\n",
    "graph = StateGraph(TweetState)\n",
    "\n",
    "# add nodes\n",
    "graph.add_node('generate',generate_tweet)\n",
    "graph.add_node('evaluate',evaluate_tweet)\n",
    "graph.add_node('optimize',optimize_tweet)\n",
    "# add edges\n",
    "\n",
    "\n",
    "# compile"
   ]
  }
 ],
 "metadata": {
  "kernelspec": {
   "display_name": "venv",
   "language": "python",
   "name": "python3"
  },
  "language_info": {
   "codemirror_mode": {
    "name": "ipython",
    "version": 3
   },
   "file_extension": ".py",
   "mimetype": "text/x-python",
   "name": "python",
   "nbconvert_exporter": "python",
   "pygments_lexer": "ipython3",
   "version": "3.13.5"
  }
 },
 "nbformat": 4,
 "nbformat_minor": 5
}
