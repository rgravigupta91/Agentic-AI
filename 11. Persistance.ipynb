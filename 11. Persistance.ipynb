{
 "cells": [
  {
   "cell_type": "code",
   "execution_count": 13,
   "id": "e0b435c9",
   "metadata": {},
   "outputs": [
    {
     "data": {
      "text/plain": [
       "True"
      ]
     },
     "execution_count": 13,
     "metadata": {},
     "output_type": "execute_result"
    }
   ],
   "source": [
    "from langgraph.graph import StateGraph, START, END\n",
    "from typing import TypedDict\n",
    "from langchain_openai import ChatOpenAI\n",
    "from dotenv import load_dotenv\n",
    "from langgraph.checkpoint.memory import InMemorySaver\n",
    "\n",
    "load_dotenv()"
   ]
  },
  {
   "cell_type": "code",
   "execution_count": 14,
   "id": "4579bea5",
   "metadata": {},
   "outputs": [],
   "source": [
    "llm = ChatOpenAI()"
   ]
  },
  {
   "cell_type": "code",
   "execution_count": 15,
   "id": "363ce7c7",
   "metadata": {},
   "outputs": [],
   "source": [
    "class JokeState(TypedDict):\n",
    "    topic: str\n",
    "    joke: str\n",
    "    explanation: str"
   ]
  },
  {
   "cell_type": "code",
   "execution_count": 16,
   "id": "341134e1",
   "metadata": {},
   "outputs": [],
   "source": [
    "def generate_joke(state: JokeState):\n",
    "    prompt = f\"generate a joke on the topic {state[\"topic\"]}\"\n",
    "    response = llm.invoke(prompt).content\n",
    "\n",
    "    return {'joke':response}"
   ]
  },
  {
   "cell_type": "code",
   "execution_count": 17,
   "id": "ac77a72b",
   "metadata": {},
   "outputs": [],
   "source": [
    "def generate_explanation(state:JokeState):\n",
    "    prompt = f\"write an explanation for the joke - {state[\"joke\"]}\"\n",
    "    response = llm.invoke(prompt).content\n",
    "\n",
    "    return {'explanation': response}"
   ]
  },
  {
   "cell_type": "code",
   "execution_count": 18,
   "id": "a11765b7",
   "metadata": {},
   "outputs": [],
   "source": [
    "graph = StateGraph(JokeState)\n",
    "\n",
    "graph.add_node('generate_joke', generate_joke)\n",
    "graph.add_node('generate_explanation', generate_explanation)\n",
    "\n",
    "graph.add_edge(START, 'generate_joke')\n",
    "graph.add_edge('generate_joke', 'generate_explanation')\n",
    "graph.add_edge('generate_explanation',END)\n",
    "\n",
    "checkpointer = InMemorySaver()\n",
    "\n",
    "workflow = graph.compile(checkpointer=checkpointer)"
   ]
  },
  {
   "cell_type": "code",
   "execution_count": 19,
   "id": "731101d6",
   "metadata": {},
   "outputs": [
    {
     "data": {
      "text/plain": [
       "{'topic': 'pizza',\n",
       " 'joke': 'Why did the pizza go to the therapist? Because it felt like it was being too cheesy!',\n",
       " 'explanation': 'This joke is a play on words, as \"cheesy\" can mean both something that is corny or lacking in originality, and also containing a lot of cheese. In this case, the pizza is going to therapy because it feels like it is being too cheesy in the sense of being overly sentimental or unoriginal. It\\'s a light-hearted and punny way to imagine a pizza seeking help for its cheesy behavior.'}"
      ]
     },
     "execution_count": 19,
     "metadata": {},
     "output_type": "execute_result"
    }
   ],
   "source": [
    "config1 = {\"configurable\": {\"thread_id\":\"1\"}}\n",
    "workflow.invoke({'topic':'pizza'}, config=config1)"
   ]
  },
  {
   "cell_type": "code",
   "execution_count": 20,
   "id": "bcfb87c3",
   "metadata": {},
   "outputs": [
    {
     "data": {
      "text/plain": [
       "StateSnapshot(values={'topic': 'pizza', 'joke': 'Why did the pizza go to the therapist? Because it felt like it was being too cheesy!', 'explanation': 'This joke is a play on words, as \"cheesy\" can mean both something that is corny or lacking in originality, and also containing a lot of cheese. In this case, the pizza is going to therapy because it feels like it is being too cheesy in the sense of being overly sentimental or unoriginal. It\\'s a light-hearted and punny way to imagine a pizza seeking help for its cheesy behavior.'}, next=(), config={'configurable': {'thread_id': '1', 'checkpoint_ns': '', 'checkpoint_id': '1f08594e-365a-623f-8002-2aece3ab72a7'}}, metadata={'source': 'loop', 'step': 2, 'parents': {}}, created_at='2025-08-30T11:31:36.522781+00:00', parent_config={'configurable': {'thread_id': '1', 'checkpoint_ns': '', 'checkpoint_id': '1f08594e-2cba-6362-8001-7e59181a9d8f'}}, tasks=(), interrupts=())"
      ]
     },
     "execution_count": 20,
     "metadata": {},
     "output_type": "execute_result"
    }
   ],
   "source": [
    "workflow.get_state(config1)"
   ]
  },
  {
   "cell_type": "code",
   "execution_count": 21,
   "id": "c4f4951b",
   "metadata": {},
   "outputs": [
    {
     "data": {
      "text/plain": [
       "[StateSnapshot(values={'topic': 'pizza', 'joke': 'Why did the pizza go to the therapist? Because it felt like it was being too cheesy!', 'explanation': 'This joke is a play on words, as \"cheesy\" can mean both something that is corny or lacking in originality, and also containing a lot of cheese. In this case, the pizza is going to therapy because it feels like it is being too cheesy in the sense of being overly sentimental or unoriginal. It\\'s a light-hearted and punny way to imagine a pizza seeking help for its cheesy behavior.'}, next=(), config={'configurable': {'thread_id': '1', 'checkpoint_ns': '', 'checkpoint_id': '1f08594e-365a-623f-8002-2aece3ab72a7'}}, metadata={'source': 'loop', 'step': 2, 'parents': {}}, created_at='2025-08-30T11:31:36.522781+00:00', parent_config={'configurable': {'thread_id': '1', 'checkpoint_ns': '', 'checkpoint_id': '1f08594e-2cba-6362-8001-7e59181a9d8f'}}, tasks=(), interrupts=()),\n",
       " StateSnapshot(values={'topic': 'pizza', 'joke': 'Why did the pizza go to the therapist? Because it felt like it was being too cheesy!'}, next=('generate_explanation',), config={'configurable': {'thread_id': '1', 'checkpoint_ns': '', 'checkpoint_id': '1f08594e-2cba-6362-8001-7e59181a9d8f'}}, metadata={'source': 'loop', 'step': 1, 'parents': {}}, created_at='2025-08-30T11:31:35.513570+00:00', parent_config={'configurable': {'thread_id': '1', 'checkpoint_ns': '', 'checkpoint_id': '1f08594e-1e6b-6b70-8000-0876aa530f4e'}}, tasks=(PregelTask(id='aee3a79d-eaea-ccbb-658b-7027d60b666f', name='generate_explanation', path=('__pregel_pull', 'generate_explanation'), error=None, interrupts=(), state=None, result={'explanation': 'This joke is a play on words, as \"cheesy\" can mean both something that is corny or lacking in originality, and also containing a lot of cheese. In this case, the pizza is going to therapy because it feels like it is being too cheesy in the sense of being overly sentimental or unoriginal. It\\'s a light-hearted and punny way to imagine a pizza seeking help for its cheesy behavior.'}),), interrupts=()),\n",
       " StateSnapshot(values={'topic': 'pizza'}, next=('generate_joke',), config={'configurable': {'thread_id': '1', 'checkpoint_ns': '', 'checkpoint_id': '1f08594e-1e6b-6b70-8000-0876aa530f4e'}}, metadata={'source': 'loop', 'step': 0, 'parents': {}}, created_at='2025-08-30T11:31:34.013409+00:00', parent_config={'configurable': {'thread_id': '1', 'checkpoint_ns': '', 'checkpoint_id': '1f08594e-1e68-642e-bfff-d298643c2ca7'}}, tasks=(PregelTask(id='679da5a2-e468-f630-19f1-32ce5d63cb5b', name='generate_joke', path=('__pregel_pull', 'generate_joke'), error=None, interrupts=(), state=None, result={'joke': 'Why did the pizza go to the therapist? Because it felt like it was being too cheesy!'}),), interrupts=()),\n",
       " StateSnapshot(values={}, next=('__start__',), config={'configurable': {'thread_id': '1', 'checkpoint_ns': '', 'checkpoint_id': '1f08594e-1e68-642e-bfff-d298643c2ca7'}}, metadata={'source': 'input', 'step': -1, 'parents': {}}, created_at='2025-08-30T11:31:34.012003+00:00', parent_config=None, tasks=(PregelTask(id='9568d76c-2da8-402f-9347-88edbc8b836e', name='__start__', path=('__pregel_pull', '__start__'), error=None, interrupts=(), state=None, result={'topic': 'pizza'}),), interrupts=())]"
      ]
     },
     "execution_count": 21,
     "metadata": {},
     "output_type": "execute_result"
    }
   ],
   "source": [
    "list(workflow.get_state_history(config1))"
   ]
  },
  {
   "cell_type": "code",
   "execution_count": 22,
   "id": "74fb8b11",
   "metadata": {},
   "outputs": [
    {
     "data": {
      "text/plain": [
       "{'topic': 'pasta',\n",
       " 'joke': 'Why did the spaghetti break up with the linguine? Because it was tired of all the pasta-drama!',\n",
       " 'explanation': 'This joke is a play on words and uses pasta terminology to create a humorous scenario. In this joke, the spaghetti breaks up with the linguine because it is tired of all the \"pasta-drama,\" which is a play on the word \"pasta\" and the word \"drama.\" The joke implies that there is drama or conflict between the spaghetti and the linguine, which is a silly and lighthearted way to explain why they broke up. It is a light-hearted and funny way to bring together food and relationship dynamics in a punny and creative way.'}"
      ]
     },
     "execution_count": 22,
     "metadata": {},
     "output_type": "execute_result"
    }
   ],
   "source": [
    "config2 = {\"configurable\": {\"thread_id\":\"2\"}}\n",
    "workflow.invoke({'topic':'pasta'}, config=config2)"
   ]
  },
  {
   "cell_type": "code",
   "execution_count": 23,
   "id": "d0ad0406",
   "metadata": {},
   "outputs": [
    {
     "data": {
      "text/plain": [
       "StateSnapshot(values={'topic': 'pasta', 'joke': 'Why did the spaghetti break up with the linguine? Because it was tired of all the pasta-drama!', 'explanation': 'This joke is a play on words and uses pasta terminology to create a humorous scenario. In this joke, the spaghetti breaks up with the linguine because it is tired of all the \"pasta-drama,\" which is a play on the word \"pasta\" and the word \"drama.\" The joke implies that there is drama or conflict between the spaghetti and the linguine, which is a silly and lighthearted way to explain why they broke up. It is a light-hearted and funny way to bring together food and relationship dynamics in a punny and creative way.'}, next=(), config={'configurable': {'thread_id': '2', 'checkpoint_ns': '', 'checkpoint_id': '1f08594e-5a77-66cf-8002-51b5fb79baf6'}}, metadata={'source': 'loop', 'step': 2, 'parents': {}}, created_at='2025-08-30T11:31:40.309647+00:00', parent_config={'configurable': {'thread_id': '2', 'checkpoint_ns': '', 'checkpoint_id': '1f08594e-4d68-67eb-8001-2cefc285200a'}}, tasks=(), interrupts=())"
      ]
     },
     "execution_count": 23,
     "metadata": {},
     "output_type": "execute_result"
    }
   ],
   "source": [
    "workflow.get_state(config2)"
   ]
  },
  {
   "cell_type": "code",
   "execution_count": 24,
   "id": "723f0122",
   "metadata": {},
   "outputs": [
    {
     "data": {
      "text/plain": [
       "[StateSnapshot(values={'topic': 'pasta', 'joke': 'Why did the spaghetti break up with the linguine? Because it was tired of all the pasta-drama!', 'explanation': 'This joke is a play on words and uses pasta terminology to create a humorous scenario. In this joke, the spaghetti breaks up with the linguine because it is tired of all the \"pasta-drama,\" which is a play on the word \"pasta\" and the word \"drama.\" The joke implies that there is drama or conflict between the spaghetti and the linguine, which is a silly and lighthearted way to explain why they broke up. It is a light-hearted and funny way to bring together food and relationship dynamics in a punny and creative way.'}, next=(), config={'configurable': {'thread_id': '2', 'checkpoint_ns': '', 'checkpoint_id': '1f08594e-5a77-66cf-8002-51b5fb79baf6'}}, metadata={'source': 'loop', 'step': 2, 'parents': {}}, created_at='2025-08-30T11:31:40.309647+00:00', parent_config={'configurable': {'thread_id': '2', 'checkpoint_ns': '', 'checkpoint_id': '1f08594e-4d68-67eb-8001-2cefc285200a'}}, tasks=(), interrupts=()),\n",
       " StateSnapshot(values={'topic': 'pasta', 'joke': 'Why did the spaghetti break up with the linguine? Because it was tired of all the pasta-drama!'}, next=('generate_explanation',), config={'configurable': {'thread_id': '2', 'checkpoint_ns': '', 'checkpoint_id': '1f08594e-4d68-67eb-8001-2cefc285200a'}}, metadata={'source': 'loop', 'step': 1, 'parents': {}}, created_at='2025-08-30T11:31:38.940297+00:00', parent_config={'configurable': {'thread_id': '2', 'checkpoint_ns': '', 'checkpoint_id': '1f08594e-43c2-6c6f-8000-a0da284b675c'}}, tasks=(PregelTask(id='b06bff31-8b9a-4fcb-3ea4-d2211af4f999', name='generate_explanation', path=('__pregel_pull', 'generate_explanation'), error=None, interrupts=(), state=None, result={'explanation': 'This joke is a play on words and uses pasta terminology to create a humorous scenario. In this joke, the spaghetti breaks up with the linguine because it is tired of all the \"pasta-drama,\" which is a play on the word \"pasta\" and the word \"drama.\" The joke implies that there is drama or conflict between the spaghetti and the linguine, which is a silly and lighthearted way to explain why they broke up. It is a light-hearted and funny way to bring together food and relationship dynamics in a punny and creative way.'}),), interrupts=()),\n",
       " StateSnapshot(values={'topic': 'pasta'}, next=('generate_joke',), config={'configurable': {'thread_id': '2', 'checkpoint_ns': '', 'checkpoint_id': '1f08594e-43c2-6c6f-8000-a0da284b675c'}}, metadata={'source': 'loop', 'step': 0, 'parents': {}}, created_at='2025-08-30T11:31:37.928807+00:00', parent_config={'configurable': {'thread_id': '2', 'checkpoint_ns': '', 'checkpoint_id': '1f08594e-43c0-69c0-bfff-78c5e713843c'}}, tasks=(PregelTask(id='f3418303-de39-1c2b-71ab-25e89db1b836', name='generate_joke', path=('__pregel_pull', 'generate_joke'), error=None, interrupts=(), state=None, result={'joke': 'Why did the spaghetti break up with the linguine? Because it was tired of all the pasta-drama!'}),), interrupts=()),\n",
       " StateSnapshot(values={}, next=('__start__',), config={'configurable': {'thread_id': '2', 'checkpoint_ns': '', 'checkpoint_id': '1f08594e-43c0-69c0-bfff-78c5e713843c'}}, metadata={'source': 'input', 'step': -1, 'parents': {}}, created_at='2025-08-30T11:31:37.927919+00:00', parent_config=None, tasks=(PregelTask(id='853fa5ac-c916-1293-6f49-8319faa70baa', name='__start__', path=('__pregel_pull', '__start__'), error=None, interrupts=(), state=None, result={'topic': 'pasta'}),), interrupts=())]"
      ]
     },
     "execution_count": 24,
     "metadata": {},
     "output_type": "execute_result"
    }
   ],
   "source": [
    "list(workflow.get_state_history(config2))"
   ]
  },
  {
   "cell_type": "markdown",
   "id": "67ab1d24",
   "metadata": {},
   "source": [
    "### Benefits of Persistence\n",
    "- Short term memory\n",
    "- Fault Tolerance\n",
    "- Human In the Loop\n",
    "- Time Travel"
   ]
  },
  {
   "cell_type": "markdown",
   "id": "4c0badc2",
   "metadata": {},
   "source": [
    "#### Short Term Memory\n",
    "refer last notebook i.e. Chatbot.ipynb"
   ]
  },
  {
   "cell_type": "markdown",
   "id": "f51131cd",
   "metadata": {},
   "source": [
    "#### Fault Tolerance"
   ]
  },
  {
   "cell_type": "code",
   "execution_count": 2,
   "id": "3567a677",
   "metadata": {},
   "outputs": [],
   "source": [
    "from langgraph.graph import StateGraph, START, END\n",
    "from langgraph.checkpoint.memory import InMemorySaver\n",
    "from typing import TypedDict\n",
    "import time"
   ]
  },
  {
   "cell_type": "code",
   "execution_count": 3,
   "id": "abbf6f72",
   "metadata": {},
   "outputs": [],
   "source": [
    "# 1. Define State\n",
    "class CrashState(TypedDict):\n",
    "    input: str\n",
    "    step1: str\n",
    "    step2: str\n",
    "    step3: str"
   ]
  },
  {
   "cell_type": "code",
   "execution_count": 4,
   "id": "3a25b94a",
   "metadata": {},
   "outputs": [],
   "source": [
    "# 2. Define Steps\n",
    "def step_1(state:CrashState) -> CrashState:\n",
    "    print(\"Step 1: Executed\")\n",
    "    return {\"step1\":\"done\", input: state[\"input\"]}\n",
    "\n",
    "def step_2(state:CrashState) -> CrashState:\n",
    "    print(\"Step 2: hanging.... now mannually interupt from the notebook toolbar (STOP button)\")\n",
    "    time.sleep(30)\n",
    "    return {\"step2\":\"done\"}\n",
    "\n",
    "def step_3(state:CrashState) -> CrashState:\n",
    "    print(\"Step 3: Executed\")\n",
    "    return {\"step3\":\"done\"}"
   ]
  },
  {
   "cell_type": "code",
   "execution_count": 5,
   "id": "510dd309",
   "metadata": {},
   "outputs": [
    {
     "data": {
      "image/png": "[encoded data removed]",
      "text/plain": [
       "<langgraph.graph.state.CompiledStateGraph object at 0x000001CA65C386E0>"
      ]
     },
     "execution_count": 5,
     "metadata": {},
     "output_type": "execute_result"
    }
   ],
   "source": [
    "builder = StateGraph(CrashState)\n",
    "\n",
    "builder.add_node(\"step_1\", step_1)\n",
    "builder.add_node(\"step_2\", step_2)\n",
    "builder.add_node(\"step_3\", step_3)\n",
    "\n",
    "builder.add_edge(START, \"step_1\")\n",
    "builder.add_edge(\"step_1\", \"step_2\")\n",
    "builder.add_edge(\"step_2\",\"step_3\")\n",
    "builder.add_edge(\"step_3\", END)\n",
    "\n",
    "checkpointer = InMemorySaver()\n",
    "\n",
    "workflow = builder.compile(checkpointer=checkpointer)\n",
    "workflow"
   ]
  },
  {
   "cell_type": "code",
   "execution_count": 6,
   "id": "ec39cb78",
   "metadata": {},
   "outputs": [
    {
     "name": "stdout",
     "output_type": "stream",
     "text": [
      "Running graph: Please manually interrupt during Step 2...\n",
      "Step 1: Executed\n",
      "Step 2: hanging.... now mannually interupt from the notebook toolbar (STOP button)\n",
      "Kernel manually interupted (Creash Simulation)\n"
     ]
    }
   ],
   "source": [
    "try:\n",
    "    print(\"Running graph: Please manually interrupt during Step 2...\")\n",
    "    workflow.invoke({\"input\":\"start\"}, config={\"configurable\": {\"thread_id\": \"thread-1\"}})\n",
    "except KeyboardInterrupt:\n",
    "    print(\"Kernel manually interupted (Creash Simulation)\")"
   ]
  },
  {
   "cell_type": "code",
   "execution_count": 7,
   "id": "0faf3f84",
   "metadata": {},
   "outputs": [
    {
     "data": {
      "text/plain": [
       "StateSnapshot(values={'input': 'start', 'step1': 'done'}, next=('step_2',), config={'configurable': {'thread_id': 'thread-1', 'checkpoint_ns': '', 'checkpoint_id': '1f085937-acf1-61a1-8001-ece6ebb0bd30'}}, metadata={'source': 'loop', 'step': 1, 'parents': {}}, created_at='2025-08-30T11:21:31.556279+00:00', parent_config={'configurable': {'thread_id': 'thread-1', 'checkpoint_ns': '', 'checkpoint_id': '1f085937-acee-6f1c-8000-0c7499441bc3'}}, tasks=(PregelTask(id='46328f15-b05b-b5c5-8997-781c6956fc9a', name='step_2', path=('__pregel_pull', 'step_2'), error=None, interrupts=(), state=None, result=None),), interrupts=())"
      ]
     },
     "execution_count": 7,
     "metadata": {},
     "output_type": "execute_result"
    }
   ],
   "source": [
    "workflow.get_state({\"configurable\": {\"thread_id\": \"thread-1\"}})"
   ]
  },
  {
   "cell_type": "code",
   "execution_count": 8,
   "id": "a61c6f5f",
   "metadata": {},
   "outputs": [
    {
     "data": {
      "text/plain": [
       "[StateSnapshot(values={'input': 'start', 'step1': 'done'}, next=('step_2',), config={'configurable': {'thread_id': 'thread-1', 'checkpoint_ns': '', 'checkpoint_id': '1f085937-acf1-61a1-8001-ece6ebb0bd30'}}, metadata={'source': 'loop', 'step': 1, 'parents': {}}, created_at='2025-08-30T11:21:31.556279+00:00', parent_config={'configurable': {'thread_id': 'thread-1', 'checkpoint_ns': '', 'checkpoint_id': '1f085937-acee-6f1c-8000-0c7499441bc3'}}, tasks=(PregelTask(id='46328f15-b05b-b5c5-8997-781c6956fc9a', name='step_2', path=('__pregel_pull', 'step_2'), error=None, interrupts=(), state=None, result=None),), interrupts=()),\n",
       " StateSnapshot(values={'input': 'start'}, next=('step_1',), config={'configurable': {'thread_id': 'thread-1', 'checkpoint_ns': '', 'checkpoint_id': '1f085937-acee-6f1c-8000-0c7499441bc3'}}, metadata={'source': 'loop', 'step': 0, 'parents': {}}, created_at='2025-08-30T11:21:31.555395+00:00', parent_config={'configurable': {'thread_id': 'thread-1', 'checkpoint_ns': '', 'checkpoint_id': '1f085937-acec-669a-bfff-3be6e4335391'}}, tasks=(PregelTask(id='9f11eb40-2e00-af89-539b-fefa6da7e519', name='step_1', path=('__pregel_pull', 'step_1'), error=None, interrupts=(), state=None, result={'step1': 'done'}),), interrupts=()),\n",
       " StateSnapshot(values={}, next=('__start__',), config={'configurable': {'thread_id': 'thread-1', 'checkpoint_ns': '', 'checkpoint_id': '1f085937-acec-669a-bfff-3be6e4335391'}}, metadata={'source': 'input', 'step': -1, 'parents': {}}, created_at='2025-08-30T11:21:31.554363+00:00', parent_config=None, tasks=(PregelTask(id='857e80e5-7c9f-6ac5-3f3b-755f783bd209', name='__start__', path=('__pregel_pull', '__start__'), error=None, interrupts=(), state=None, result={'input': 'start'}),), interrupts=())]"
      ]
     },
     "execution_count": 8,
     "metadata": {},
     "output_type": "execute_result"
    }
   ],
   "source": [
    "list(workflow.get_state_history({\"configurable\": {\"thread_id\": \"thread-1\"}}))"
   ]
  },
  {
   "cell_type": "code",
   "execution_count": 9,
   "id": "48bb3225",
   "metadata": {},
   "outputs": [
    {
     "name": "stdout",
     "output_type": "stream",
     "text": [
      "Step 2: hanging.... now mannually interupt from the notebook toolbar (STOP button)\n",
      "Step 3: Executed\n",
      "\n",
      " Final State: {'input': 'start', 'step1': 'done', 'step2': 'done', 'step3': 'done'}\n"
     ]
    }
   ],
   "source": [
    "final_state = workflow.invoke(None, config={\"configurable\": {\"thread_id\": \"thread-1\"}})\n",
    "print(\"\\n Final State:\", final_state)"
   ]
  },
  {
   "cell_type": "code",
   "execution_count": 10,
   "id": "c0eeb0e7",
   "metadata": {},
   "outputs": [
    {
     "data": {
      "text/plain": [
       "StateSnapshot(values={'input': 'start', 'step1': 'done', 'step2': 'done', 'step3': 'done'}, next=(), config={'configurable': {'thread_id': 'thread-1', 'checkpoint_ns': '', 'checkpoint_id': '1f08593e-ff2f-6aed-8003-c66d60434e0f'}}, metadata={'source': 'loop', 'step': 3, 'parents': {}}, created_at='2025-08-30T11:24:48.085041+00:00', parent_config={'configurable': {'thread_id': 'thread-1', 'checkpoint_ns': '', 'checkpoint_id': '1f08593e-ff2c-63bb-8002-a986b4f4b08d'}}, tasks=(), interrupts=())"
      ]
     },
     "execution_count": 10,
     "metadata": {},
     "output_type": "execute_result"
    }
   ],
   "source": [
    "workflow.get_state({\"configurable\": {\"thread_id\": \"thread-1\"}})"
   ]
  },
  {
   "cell_type": "code",
   "execution_count": 12,
   "id": "0e49c183",
   "metadata": {},
   "outputs": [
    {
     "data": {
      "text/plain": [
       "[StateSnapshot(values={'input': 'start', 'step1': 'done', 'step2': 'done', 'step3': 'done'}, next=(), config={'configurable': {'thread_id': 'thread-1', 'checkpoint_ns': '', 'checkpoint_id': '1f08593e-ff2f-6aed-8003-c66d60434e0f'}}, metadata={'source': 'loop', 'step': 3, 'parents': {}}, created_at='2025-08-30T11:24:48.085041+00:00', parent_config={'configurable': {'thread_id': 'thread-1', 'checkpoint_ns': '', 'checkpoint_id': '1f08593e-ff2c-63bb-8002-a986b4f4b08d'}}, tasks=(), interrupts=()),\n",
       " StateSnapshot(values={'input': 'start', 'step1': 'done', 'step2': 'done'}, next=('step_3',), config={'configurable': {'thread_id': 'thread-1', 'checkpoint_ns': '', 'checkpoint_id': '1f08593e-ff2c-63bb-8002-a986b4f4b08d'}}, metadata={'source': 'loop', 'step': 2, 'parents': {}}, created_at='2025-08-30T11:24:48.083621+00:00', parent_config={'configurable': {'thread_id': 'thread-1', 'checkpoint_ns': '', 'checkpoint_id': '1f085937-acf1-61a1-8001-ece6ebb0bd30'}}, tasks=(PregelTask(id='d2e1efa2-ddb4-51cc-0b3f-c7c30da0ab71', name='step_3', path=('__pregel_pull', 'step_3'), error=None, interrupts=(), state=None, result={'step3': 'done'}),), interrupts=()),\n",
       " StateSnapshot(values={'input': 'start', 'step1': 'done'}, next=('step_2',), config={'configurable': {'thread_id': 'thread-1', 'checkpoint_ns': '', 'checkpoint_id': '1f085937-acf1-61a1-8001-ece6ebb0bd30'}}, metadata={'source': 'loop', 'step': 1, 'parents': {}}, created_at='2025-08-30T11:21:31.556279+00:00', parent_config={'configurable': {'thread_id': 'thread-1', 'checkpoint_ns': '', 'checkpoint_id': '1f085937-acee-6f1c-8000-0c7499441bc3'}}, tasks=(PregelTask(id='46328f15-b05b-b5c5-8997-781c6956fc9a', name='step_2', path=('__pregel_pull', 'step_2'), error=None, interrupts=(), state=None, result={'step2': 'done'}),), interrupts=()),\n",
       " StateSnapshot(values={'input': 'start'}, next=('step_1',), config={'configurable': {'thread_id': 'thread-1', 'checkpoint_ns': '', 'checkpoint_id': '1f085937-acee-6f1c-8000-0c7499441bc3'}}, metadata={'source': 'loop', 'step': 0, 'parents': {}}, created_at='2025-08-30T11:21:31.555395+00:00', parent_config={'configurable': {'thread_id': 'thread-1', 'checkpoint_ns': '', 'checkpoint_id': '1f085937-acec-669a-bfff-3be6e4335391'}}, tasks=(PregelTask(id='9f11eb40-2e00-af89-539b-fefa6da7e519', name='step_1', path=('__pregel_pull', 'step_1'), error=None, interrupts=(), state=None, result={'step1': 'done'}),), interrupts=()),\n",
       " StateSnapshot(values={}, next=('__start__',), config={'configurable': {'thread_id': 'thread-1', 'checkpoint_ns': '', 'checkpoint_id': '1f085937-acec-669a-bfff-3be6e4335391'}}, metadata={'source': 'input', 'step': -1, 'parents': {}}, created_at='2025-08-30T11:21:31.554363+00:00', parent_config=None, tasks=(PregelTask(id='857e80e5-7c9f-6ac5-3f3b-755f783bd209', name='__start__', path=('__pregel_pull', '__start__'), error=None, interrupts=(), state=None, result={'input': 'start'}),), interrupts=())]"
      ]
     },
     "execution_count": 12,
     "metadata": {},
     "output_type": "execute_result"
    }
   ],
   "source": [
    "list(workflow.get_state_history({\"configurable\": {\"thread_id\": \"thread-1\"}}))"
   ]
  },
  {
   "cell_type": "markdown",
   "id": "cb36dc50",
   "metadata": {},
   "source": [
    "#### Time Travel"
   ]
  },
  {
   "cell_type": "code",
   "execution_count": 26,
   "id": "ef7f306c",
   "metadata": {},
   "outputs": [
    {
     "data": {
      "text/plain": [
       "[StateSnapshot(values={'topic': 'pizza', 'joke': 'Why did the pizza go to the therapist? Because it felt like it was being too cheesy!', 'explanation': 'This joke is a play on words, as \"cheesy\" can mean both something that is corny or lacking in originality, and also containing a lot of cheese. In this case, the pizza is going to therapy because it feels like it is being too cheesy in the sense of being overly sentimental or unoriginal. It\\'s a light-hearted and punny way to imagine a pizza seeking help for its cheesy behavior.'}, next=(), config={'configurable': {'thread_id': '1', 'checkpoint_ns': '', 'checkpoint_id': '1f08594e-365a-623f-8002-2aece3ab72a7'}}, metadata={'source': 'loop', 'step': 2, 'parents': {}}, created_at='2025-08-30T11:31:36.522781+00:00', parent_config={'configurable': {'thread_id': '1', 'checkpoint_ns': '', 'checkpoint_id': '1f08594e-2cba-6362-8001-7e59181a9d8f'}}, tasks=(), interrupts=()),\n",
       " StateSnapshot(values={'topic': 'pizza', 'joke': 'Why did the pizza go to the therapist? Because it felt like it was being too cheesy!'}, next=('generate_explanation',), config={'configurable': {'thread_id': '1', 'checkpoint_ns': '', 'checkpoint_id': '1f08594e-2cba-6362-8001-7e59181a9d8f'}}, metadata={'source': 'loop', 'step': 1, 'parents': {}}, created_at='2025-08-30T11:31:35.513570+00:00', parent_config={'configurable': {'thread_id': '1', 'checkpoint_ns': '', 'checkpoint_id': '1f08594e-1e6b-6b70-8000-0876aa530f4e'}}, tasks=(PregelTask(id='aee3a79d-eaea-ccbb-658b-7027d60b666f', name='generate_explanation', path=('__pregel_pull', 'generate_explanation'), error=None, interrupts=(), state=None, result={'explanation': 'This joke is a play on words, as \"cheesy\" can mean both something that is corny or lacking in originality, and also containing a lot of cheese. In this case, the pizza is going to therapy because it feels like it is being too cheesy in the sense of being overly sentimental or unoriginal. It\\'s a light-hearted and punny way to imagine a pizza seeking help for its cheesy behavior.'}),), interrupts=()),\n",
       " StateSnapshot(values={'topic': 'pizza'}, next=('generate_joke',), config={'configurable': {'thread_id': '1', 'checkpoint_ns': '', 'checkpoint_id': '1f08594e-1e6b-6b70-8000-0876aa530f4e'}}, metadata={'source': 'loop', 'step': 0, 'parents': {}}, created_at='2025-08-30T11:31:34.013409+00:00', parent_config={'configurable': {'thread_id': '1', 'checkpoint_ns': '', 'checkpoint_id': '1f08594e-1e68-642e-bfff-d298643c2ca7'}}, tasks=(PregelTask(id='679da5a2-e468-f630-19f1-32ce5d63cb5b', name='generate_joke', path=('__pregel_pull', 'generate_joke'), error=None, interrupts=(), state=None, result={'joke': 'Why did the pizza go to the therapist? Because it felt like it was being too cheesy!'}),), interrupts=()),\n",
       " StateSnapshot(values={}, next=('__start__',), config={'configurable': {'thread_id': '1', 'checkpoint_ns': '', 'checkpoint_id': '1f08594e-1e68-642e-bfff-d298643c2ca7'}}, metadata={'source': 'input', 'step': -1, 'parents': {}}, created_at='2025-08-30T11:31:34.012003+00:00', parent_config=None, tasks=(PregelTask(id='9568d76c-2da8-402f-9347-88edbc8b836e', name='__start__', path=('__pregel_pull', '__start__'), error=None, interrupts=(), state=None, result={'topic': 'pizza'}),), interrupts=())]"
      ]
     },
     "execution_count": 26,
     "metadata": {},
     "output_type": "execute_result"
    }
   ],
   "source": [
    "# take first example of Joke generation. \n",
    "list(workflow.get_state_history(config1))"
   ]
  },
  {
   "cell_type": "code",
   "execution_count": 27,
   "id": "75b063f1",
   "metadata": {},
   "outputs": [
    {
     "data": {
      "text/plain": [
       "StateSnapshot(values={'topic': 'pizza', 'joke': 'Why did the pizza go to the therapist? Because it felt like it was being too cheesy!', 'explanation': 'This joke is a play on words, as \"cheesy\" can mean both something that is corny or lacking in originality, and also containing a lot of cheese. In this case, the pizza is going to therapy because it feels like it is being too cheesy in the sense of being overly sentimental or unoriginal. It\\'s a light-hearted and punny way to imagine a pizza seeking help for its cheesy behavior.'}, next=(), config={'configurable': {'thread_id': '1', 'checkpoint_ns': '', 'checkpoint_id': '1f08594e-365a-623f-8002-2aece3ab72a7'}}, metadata={'source': 'loop', 'step': 2, 'parents': {}}, created_at='2025-08-30T11:31:36.522781+00:00', parent_config={'configurable': {'thread_id': '1', 'checkpoint_ns': '', 'checkpoint_id': '1f08594e-2cba-6362-8001-7e59181a9d8f'}}, tasks=(), interrupts=())"
      ]
     },
     "execution_count": 27,
     "metadata": {},
     "output_type": "execute_result"
    }
   ],
   "source": [
    "workflow.get_state({\"configurable\": {\"thread_id\": \"1\"}})"
   ]
  },
  {
   "cell_type": "code",
   "execution_count": 28,
   "id": "8c28e7a4",
   "metadata": {},
   "outputs": [
    {
     "data": {
      "text/plain": [
       "StateSnapshot(values={'topic': 'pizza'}, next=('generate_joke',), config={'configurable': {'thread_id': '1', 'checkpoint_id': '1f08594e-1e6b-6b70-8000-0876aa530f4e'}}, metadata={'source': 'loop', 'step': 0, 'parents': {}}, created_at='2025-08-30T11:31:34.013409+00:00', parent_config={'configurable': {'thread_id': '1', 'checkpoint_ns': '', 'checkpoint_id': '1f08594e-1e68-642e-bfff-d298643c2ca7'}}, tasks=(PregelTask(id='679da5a2-e468-f630-19f1-32ce5d63cb5b', name='generate_joke', path=('__pregel_pull', 'generate_joke'), error=None, interrupts=(), state=None, result={'joke': 'Why did the pizza go to the therapist? Because it felt like it was being too cheesy!'}),), interrupts=())"
      ]
     },
     "execution_count": 28,
     "metadata": {},
     "output_type": "execute_result"
    }
   ],
   "source": [
    "workflow.get_state({\"configurable\":{\"thread_id\":\"1\", \"checkpoint_id\":\"1f08594e-1e6b-6b70-8000-0876aa530f4e\"}})"
   ]
  },
  {
   "cell_type": "code",
   "execution_count": 29,
   "id": "7a2c9b2b",
   "metadata": {},
   "outputs": [
    {
     "data": {
      "text/plain": [
       "{'topic': 'pizza',\n",
       " 'joke': 'Why did the cheese go to the party? \\nBecause it wanted to get a little slice of the action!',\n",
       " 'explanation': 'This joke is a play on words using the term \"slice\" in reference to cheese. The joke implies that the cheese went to the party to partake in the fun (action) and also to potentially be consumed (sliced) by party-goers. It\\'s a pun that combines the literal meaning of cheese being sliced with the figurative meaning of wanting to be part of the excitement at a party.'}"
      ]
     },
     "execution_count": 29,
     "metadata": {},
     "output_type": "execute_result"
    }
   ],
   "source": [
    "workflow.invoke(None,{\"configurable\":{\"thread_id\":\"1\", \"checkpoint_id\":\"1f08594e-1e6b-6b70-8000-0876aa530f4e\"}})"
   ]
  },
  {
   "cell_type": "code",
   "execution_count": 30,
   "id": "1303f1ae",
   "metadata": {},
   "outputs": [
    {
     "data": {
      "text/plain": [
       "[StateSnapshot(values={'topic': 'pizza', 'joke': 'Why did the cheese go to the party? \\nBecause it wanted to get a little slice of the action!', 'explanation': 'This joke is a play on words using the term \"slice\" in reference to cheese. The joke implies that the cheese went to the party to partake in the fun (action) and also to potentially be consumed (sliced) by party-goers. It\\'s a pun that combines the literal meaning of cheese being sliced with the figurative meaning of wanting to be part of the excitement at a party.'}, next=(), config={'configurable': {'thread_id': '1', 'checkpoint_ns': '', 'checkpoint_id': '1f085955-4bab-6d10-8002-554f53764101'}}, metadata={'source': 'loop', 'step': 2, 'parents': {}}, created_at='2025-08-30T11:34:46.663064+00:00', parent_config={'configurable': {'thread_id': '1', 'checkpoint_ns': '', 'checkpoint_id': '1f085955-42b7-6c56-8001-dd03bd455a37'}}, tasks=(), interrupts=()),\n",
       " StateSnapshot(values={'topic': 'pizza', 'joke': 'Why did the cheese go to the party? \\nBecause it wanted to get a little slice of the action!'}, next=('generate_explanation',), config={'configurable': {'thread_id': '1', 'checkpoint_ns': '', 'checkpoint_id': '1f085955-42b7-6c56-8001-dd03bd455a37'}}, metadata={'source': 'loop', 'step': 1, 'parents': {}}, created_at='2025-08-30T11:34:45.724253+00:00', parent_config={'configurable': {'thread_id': '1', 'checkpoint_ns': '', 'checkpoint_id': '1f08594e-1e6b-6b70-8000-0876aa530f4e'}}, tasks=(PregelTask(id='f2c6e91e-152d-6c46-e0c5-0d70fdcd691c', name='generate_explanation', path=('__pregel_pull', 'generate_explanation'), error=None, interrupts=(), state=None, result={'explanation': 'This joke is a play on words using the term \"slice\" in reference to cheese. The joke implies that the cheese went to the party to partake in the fun (action) and also to potentially be consumed (sliced) by party-goers. It\\'s a pun that combines the literal meaning of cheese being sliced with the figurative meaning of wanting to be part of the excitement at a party.'}),), interrupts=()),\n",
       " StateSnapshot(values={'topic': 'pizza', 'joke': 'Why did the pizza go to the therapist? Because it felt like it was being too cheesy!', 'explanation': 'This joke is a play on words, as \"cheesy\" can mean both something that is corny or lacking in originality, and also containing a lot of cheese. In this case, the pizza is going to therapy because it feels like it is being too cheesy in the sense of being overly sentimental or unoriginal. It\\'s a light-hearted and punny way to imagine a pizza seeking help for its cheesy behavior.'}, next=(), config={'configurable': {'thread_id': '1', 'checkpoint_ns': '', 'checkpoint_id': '1f08594e-365a-623f-8002-2aece3ab72a7'}}, metadata={'source': 'loop', 'step': 2, 'parents': {}}, created_at='2025-08-30T11:31:36.522781+00:00', parent_config={'configurable': {'thread_id': '1', 'checkpoint_ns': '', 'checkpoint_id': '1f08594e-2cba-6362-8001-7e59181a9d8f'}}, tasks=(), interrupts=()),\n",
       " StateSnapshot(values={'topic': 'pizza', 'joke': 'Why did the pizza go to the therapist? Because it felt like it was being too cheesy!'}, next=('generate_explanation',), config={'configurable': {'thread_id': '1', 'checkpoint_ns': '', 'checkpoint_id': '1f08594e-2cba-6362-8001-7e59181a9d8f'}}, metadata={'source': 'loop', 'step': 1, 'parents': {}}, created_at='2025-08-30T11:31:35.513570+00:00', parent_config={'configurable': {'thread_id': '1', 'checkpoint_ns': '', 'checkpoint_id': '1f08594e-1e6b-6b70-8000-0876aa530f4e'}}, tasks=(PregelTask(id='aee3a79d-eaea-ccbb-658b-7027d60b666f', name='generate_explanation', path=('__pregel_pull', 'generate_explanation'), error=None, interrupts=(), state=None, result={'explanation': 'This joke is a play on words, as \"cheesy\" can mean both something that is corny or lacking in originality, and also containing a lot of cheese. In this case, the pizza is going to therapy because it feels like it is being too cheesy in the sense of being overly sentimental or unoriginal. It\\'s a light-hearted and punny way to imagine a pizza seeking help for its cheesy behavior.'}),), interrupts=()),\n",
       " StateSnapshot(values={'topic': 'pizza'}, next=('generate_joke',), config={'configurable': {'thread_id': '1', 'checkpoint_ns': '', 'checkpoint_id': '1f08594e-1e6b-6b70-8000-0876aa530f4e'}}, metadata={'source': 'loop', 'step': 0, 'parents': {}}, created_at='2025-08-30T11:31:34.013409+00:00', parent_config={'configurable': {'thread_id': '1', 'checkpoint_ns': '', 'checkpoint_id': '1f08594e-1e68-642e-bfff-d298643c2ca7'}}, tasks=(PregelTask(id='679da5a2-e468-f630-19f1-32ce5d63cb5b', name='generate_joke', path=('__pregel_pull', 'generate_joke'), error=None, interrupts=(), state=None, result={'joke': 'Why did the pizza go to the therapist? Because it felt like it was being too cheesy!'}),), interrupts=()),\n",
       " StateSnapshot(values={}, next=('__start__',), config={'configurable': {'thread_id': '1', 'checkpoint_ns': '', 'checkpoint_id': '1f08594e-1e68-642e-bfff-d298643c2ca7'}}, metadata={'source': 'input', 'step': -1, 'parents': {}}, created_at='2025-08-30T11:31:34.012003+00:00', parent_config=None, tasks=(PregelTask(id='9568d76c-2da8-402f-9347-88edbc8b836e', name='__start__', path=('__pregel_pull', '__start__'), error=None, interrupts=(), state=None, result={'topic': 'pizza'}),), interrupts=())]"
      ]
     },
     "execution_count": 30,
     "metadata": {},
     "output_type": "execute_result"
    }
   ],
   "source": [
    "list(workflow.get_state_history(config1))"
   ]
  },
  {
   "cell_type": "markdown",
   "id": "615ee7c1",
   "metadata": {},
   "source": [
    "Update the state as Samosa"
   ]
  },
  {
   "cell_type": "code",
   "execution_count": 32,
   "id": "8c10b212",
   "metadata": {},
   "outputs": [
    {
     "data": {
      "text/plain": [
       "{'configurable': {'thread_id': '1',\n",
       "  'checkpoint_ns': '',\n",
       "  'checkpoint_id': '1f08595c-8160-6359-8001-575580eaefea'}}"
      ]
     },
     "execution_count": 32,
     "metadata": {},
     "output_type": "execute_result"
    }
   ],
   "source": [
    "workflow.update_state({\"configurable\":{\"thread_id\":\"1\",\"checkpoint_ns\":\"\",\"checkpoint_id\":\"1f08594e-1e6b-6b70-8000-0876aa530f4e\"}},{\"topic\":\"samosa\"})"
   ]
  },
  {
   "cell_type": "code",
   "execution_count": 33,
   "id": "0ae6b845",
   "metadata": {},
   "outputs": [
    {
     "data": {
      "text/plain": [
       "{'topic': 'samosa',\n",
       " 'joke': 'Why did the samosa go to the party? Because it was a real \"flaky\" character!',\n",
       " 'explanation': 'This joke is a play on words using the term \"flaky.\" In this context, \"flaky\" can mean unreliable or inconsistent. However, in the case of a samosa, it is also a reference to the flaky pastry crust that is a common characteristic of this popular Indian snack. So, the joke is suggesting that the samosa went to the party because it is literally a \"flaky\" character due to its flaky pastry crust.'}"
      ]
     },
     "execution_count": 33,
     "metadata": {},
     "output_type": "execute_result"
    }
   ],
   "source": [
    "workflow.invoke(None,{\"configurable\":{\"thread_id\":\"1\", \"checkpoint_id\":\"1f08595c-8160-6359-8001-575580eaefea\"}})"
   ]
  },
  {
   "cell_type": "code",
   "execution_count": 34,
   "id": "d153aa5a",
   "metadata": {},
   "outputs": [
    {
     "data": {
      "text/plain": [
       "[StateSnapshot(values={'topic': 'samosa', 'joke': 'Why did the samosa go to the party? Because it was a real \"flaky\" character!', 'explanation': 'This joke is a play on words using the term \"flaky.\" In this context, \"flaky\" can mean unreliable or inconsistent. However, in the case of a samosa, it is also a reference to the flaky pastry crust that is a common characteristic of this popular Indian snack. So, the joke is suggesting that the samosa went to the party because it is literally a \"flaky\" character due to its flaky pastry crust.'}, next=(), config={'configurable': {'thread_id': '1', 'checkpoint_ns': '', 'checkpoint_id': '1f08595d-b682-6e3c-8003-77f428f3cd64'}}, metadata={'source': 'loop', 'step': 3, 'parents': {}}, created_at='2025-08-30T11:38:32.614440+00:00', parent_config={'configurable': {'thread_id': '1', 'checkpoint_ns': '', 'checkpoint_id': '1f08595d-a620-6f05-8002-47df2fbe1c70'}}, tasks=(), interrupts=()),\n",
       " StateSnapshot(values={'topic': 'samosa', 'joke': 'Why did the samosa go to the party? Because it was a real \"flaky\" character!'}, next=('generate_explanation',), config={'configurable': {'thread_id': '1', 'checkpoint_ns': '', 'checkpoint_id': '1f08595d-a620-6f05-8002-47df2fbe1c70'}}, metadata={'source': 'loop', 'step': 2, 'parents': {}}, created_at='2025-08-30T11:38:30.896594+00:00', parent_config={'configurable': {'thread_id': '1', 'checkpoint_ns': '', 'checkpoint_id': '1f08595c-8160-6359-8001-575580eaefea'}}, tasks=(PregelTask(id='ab83fa3c-9cf3-9acd-49cf-516ae26d501c', name='generate_explanation', path=('__pregel_pull', 'generate_explanation'), error=None, interrupts=(), state=None, result={'explanation': 'This joke is a play on words using the term \"flaky.\" In this context, \"flaky\" can mean unreliable or inconsistent. However, in the case of a samosa, it is also a reference to the flaky pastry crust that is a common characteristic of this popular Indian snack. So, the joke is suggesting that the samosa went to the party because it is literally a \"flaky\" character due to its flaky pastry crust.'}),), interrupts=()),\n",
       " StateSnapshot(values={'topic': 'samosa'}, next=('generate_joke',), config={'configurable': {'thread_id': '1', 'checkpoint_ns': '', 'checkpoint_id': '1f08595c-8160-6359-8001-575580eaefea'}}, metadata={'source': 'update', 'step': 1, 'parents': {}}, created_at='2025-08-30T11:38:00.199239+00:00', parent_config={'configurable': {'thread_id': '1', 'checkpoint_ns': '', 'checkpoint_id': '1f08594e-1e6b-6b70-8000-0876aa530f4e'}}, tasks=(PregelTask(id='68ce7b9a-f7ef-2fe7-5f6e-225ccd70c012', name='generate_joke', path=('__pregel_pull', 'generate_joke'), error=None, interrupts=(), state=None, result={'joke': 'Why did the samosa go to the party? Because it was a real \"flaky\" character!'}),), interrupts=()),\n",
       " StateSnapshot(values={'topic': 'pizza', 'joke': 'Why did the cheese go to the party? \\nBecause it wanted to get a little slice of the action!', 'explanation': 'This joke is a play on words using the term \"slice\" in reference to cheese. The joke implies that the cheese went to the party to partake in the fun (action) and also to potentially be consumed (sliced) by party-goers. It\\'s a pun that combines the literal meaning of cheese being sliced with the figurative meaning of wanting to be part of the excitement at a party.'}, next=(), config={'configurable': {'thread_id': '1', 'checkpoint_ns': '', 'checkpoint_id': '1f085955-4bab-6d10-8002-554f53764101'}}, metadata={'source': 'loop', 'step': 2, 'parents': {}}, created_at='2025-08-30T11:34:46.663064+00:00', parent_config={'configurable': {'thread_id': '1', 'checkpoint_ns': '', 'checkpoint_id': '1f085955-42b7-6c56-8001-dd03bd455a37'}}, tasks=(), interrupts=()),\n",
       " StateSnapshot(values={'topic': 'pizza', 'joke': 'Why did the cheese go to the party? \\nBecause it wanted to get a little slice of the action!'}, next=('generate_explanation',), config={'configurable': {'thread_id': '1', 'checkpoint_ns': '', 'checkpoint_id': '1f085955-42b7-6c56-8001-dd03bd455a37'}}, metadata={'source': 'loop', 'step': 1, 'parents': {}}, created_at='2025-08-30T11:34:45.724253+00:00', parent_config={'configurable': {'thread_id': '1', 'checkpoint_ns': '', 'checkpoint_id': '1f08594e-1e6b-6b70-8000-0876aa530f4e'}}, tasks=(PregelTask(id='f2c6e91e-152d-6c46-e0c5-0d70fdcd691c', name='generate_explanation', path=('__pregel_pull', 'generate_explanation'), error=None, interrupts=(), state=None, result={'explanation': 'This joke is a play on words using the term \"slice\" in reference to cheese. The joke implies that the cheese went to the party to partake in the fun (action) and also to potentially be consumed (sliced) by party-goers. It\\'s a pun that combines the literal meaning of cheese being sliced with the figurative meaning of wanting to be part of the excitement at a party.'}),), interrupts=()),\n",
       " StateSnapshot(values={'topic': 'pizza', 'joke': 'Why did the pizza go to the therapist? Because it felt like it was being too cheesy!', 'explanation': 'This joke is a play on words, as \"cheesy\" can mean both something that is corny or lacking in originality, and also containing a lot of cheese. In this case, the pizza is going to therapy because it feels like it is being too cheesy in the sense of being overly sentimental or unoriginal. It\\'s a light-hearted and punny way to imagine a pizza seeking help for its cheesy behavior.'}, next=(), config={'configurable': {'thread_id': '1', 'checkpoint_ns': '', 'checkpoint_id': '1f08594e-365a-623f-8002-2aece3ab72a7'}}, metadata={'source': 'loop', 'step': 2, 'parents': {}}, created_at='2025-08-30T11:31:36.522781+00:00', parent_config={'configurable': {'thread_id': '1', 'checkpoint_ns': '', 'checkpoint_id': '1f08594e-2cba-6362-8001-7e59181a9d8f'}}, tasks=(), interrupts=()),\n",
       " StateSnapshot(values={'topic': 'pizza', 'joke': 'Why did the pizza go to the therapist? Because it felt like it was being too cheesy!'}, next=('generate_explanation',), config={'configurable': {'thread_id': '1', 'checkpoint_ns': '', 'checkpoint_id': '1f08594e-2cba-6362-8001-7e59181a9d8f'}}, metadata={'source': 'loop', 'step': 1, 'parents': {}}, created_at='2025-08-30T11:31:35.513570+00:00', parent_config={'configurable': {'thread_id': '1', 'checkpoint_ns': '', 'checkpoint_id': '1f08594e-1e6b-6b70-8000-0876aa530f4e'}}, tasks=(PregelTask(id='aee3a79d-eaea-ccbb-658b-7027d60b666f', name='generate_explanation', path=('__pregel_pull', 'generate_explanation'), error=None, interrupts=(), state=None, result={'explanation': 'This joke is a play on words, as \"cheesy\" can mean both something that is corny or lacking in originality, and also containing a lot of cheese. In this case, the pizza is going to therapy because it feels like it is being too cheesy in the sense of being overly sentimental or unoriginal. It\\'s a light-hearted and punny way to imagine a pizza seeking help for its cheesy behavior.'}),), interrupts=()),\n",
       " StateSnapshot(values={'topic': 'pizza'}, next=('generate_joke',), config={'configurable': {'thread_id': '1', 'checkpoint_ns': '', 'checkpoint_id': '1f08594e-1e6b-6b70-8000-0876aa530f4e'}}, metadata={'source': 'loop', 'step': 0, 'parents': {}}, created_at='2025-08-30T11:31:34.013409+00:00', parent_config={'configurable': {'thread_id': '1', 'checkpoint_ns': '', 'checkpoint_id': '1f08594e-1e68-642e-bfff-d298643c2ca7'}}, tasks=(PregelTask(id='679da5a2-e468-f630-19f1-32ce5d63cb5b', name='generate_joke', path=('__pregel_pull', 'generate_joke'), error=None, interrupts=(), state=None, result={'joke': 'Why did the pizza go to the therapist? Because it felt like it was being too cheesy!'}),), interrupts=()),\n",
       " StateSnapshot(values={}, next=('__start__',), config={'configurable': {'thread_id': '1', 'checkpoint_ns': '', 'checkpoint_id': '1f08594e-1e68-642e-bfff-d298643c2ca7'}}, metadata={'source': 'input', 'step': -1, 'parents': {}}, created_at='2025-08-30T11:31:34.012003+00:00', parent_config=None, tasks=(PregelTask(id='9568d76c-2da8-402f-9347-88edbc8b836e', name='__start__', path=('__pregel_pull', '__start__'), error=None, interrupts=(), state=None, result={'topic': 'pizza'}),), interrupts=())]"
      ]
     },
     "execution_count": 34,
     "metadata": {},
     "output_type": "execute_result"
    }
   ],
   "source": [
    "list(workflow.get_state_history(config1))"
   ]
  },
  {
   "cell_type": "code",
   "execution_count": null,
   "id": "63cb7e76",
   "metadata": {},
   "outputs": [],
   "source": []
  }
 ],
 "metadata": {
  "kernelspec": {
   "display_name": "venv",
   "language": "python",
   "name": "python3"
  },
  "language_info": {
   "codemirror_mode": {
    "name": "ipython",
    "version": 3
   },
   "file_extension": ".py",
   "mimetype": "text/x-python",
   "name": "python",
   "nbconvert_exporter": "python",
   "pygments_lexer": "ipython3",
   "version": "3.13.5"
  }
 },
 "nbformat": 4,
 "nbformat_minor": 5
}
