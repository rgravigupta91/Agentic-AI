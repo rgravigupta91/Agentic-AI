{
 "cells": [
  {
   "cell_type": "code",
   "execution_count": 9,
   "id": "ab9cba74",
   "metadata": {},
   "outputs": [
    {
     "data": {
      "text/plain": [
       "True"
      ]
     },
     "execution_count": 9,
     "metadata": {},
     "output_type": "execute_result"
    }
   ],
   "source": [
    "from langgraph.graph import StateGraph, START, END\n",
    "from typing import TypedDict, Annotated\n",
    "from langchain_openai import ChatOpenAI\n",
    "from dotenv import load_dotenv\n",
    "from pydantic import BaseModel, Field\n",
    "import operator\n",
    "\n",
    "load_dotenv()"
   ]
  },
  {
   "cell_type": "code",
   "execution_count": null,
   "id": "3e7d2a2b",
   "metadata": {},
   "outputs": [],
   "source": [
    "# create a model\n",
    "model = ChatOpenAI(model='gpt-4o-mini')"
   ]
  },
  {
   "cell_type": "code",
   "execution_count": null,
   "id": "78d6a2a5",
   "metadata": {},
   "outputs": [],
   "source": [
    "# pydantic class for structured output\n",
    "class EvaluationSchema(BaseModel):\n",
    "    feedback: str = Field(description='Detailed feedback of the  essay')\n",
    "    score: int = Field(description='Score out of 10', ge=0, le=10)"
   ]
  },
  {
   "cell_type": "code",
   "execution_count": null,
   "id": "db529036",
   "metadata": {},
   "outputs": [],
   "source": [
    "# structured output model\n",
    "structured_model = model.with_structured_output(EvaluationSchema)"
   ]
  },
  {
   "cell_type": "code",
   "execution_count": null,
   "id": "2384724d",
   "metadata": {},
   "outputs": [],
   "source": [
    "# essay variable\n",
    "essay = \"\"\"\n",
    "Role of India in Artificial Intelligence\n",
    "\n",
    "Artificial Intelligence (AI) is transforming the global landscape across industries such as healthcare, agriculture, education, transportation, and governance. As one of the world's most populous and rapidly developing nations, India is poised to play a pivotal role in shaping the future of AI, both within its borders and on the global stage. With a robust technology ecosystem, a vast talent pool, and increasing government support, India is emerging as a key player in the AI revolution.\n",
    "\n",
    "1. India's Strategic Vision for AI\n",
    "\n",
    "The Government of India has recognized AI as a strategic technology with the potential to drive economic growth and social inclusion. The National Strategy for Artificial Intelligence, launched by NITI Aayog in 2018, laid the foundation for AI development in the country. The strategy identifies five key sectors where AI can have the most significant impact: healthcare, agriculture, education, smart mobility, and smart cities. The vision is to position India not only as a consumer of AI technology but also as a global hub for AI development and deployment.\n",
    "\n",
    "2. Growing AI Talent and Research\n",
    "\n",
    "India produces one of the largest numbers of STEM (Science, Technology, Engineering, and Mathematics) graduates in the world. This vast talent pool is instrumental in fueling AI research and innovation. Leading Indian institutes like the Indian Institutes of Technology (IITs), Indian Institute of Science (IISc), and several private universities are investing in AI-focused research and offering specialized courses.\n",
    "\n",
    "Additionally, India has seen a surge in AI research publications, patents, and startup activity. Collaborations between academia, industry, and government agencies are enhancing India's AI capabilities. Initiatives like the Centre for Artificial Intelligence and Robotics (CAIR) and partnerships with global tech firms further reinforce India’s R&D efforts.\n",
    "\n",
    "3. AI Startups and Industry Growth\n",
    "\n",
    "India has a rapidly growing AI startup ecosystem. Cities like Bangalore, Hyderabad, Pune, and Delhi are becoming hubs for AI-based innovation. These startups are working on solutions ranging from predictive healthcare diagnostics to precision agriculture, automated legal services, and language translation tools.\n",
    "\n",
    "Major Indian IT companies such as TCS, Infosys, Wipro, and HCL are also heavily investing in AI, integrating it into their services and developing AI-powered platforms. Their global reach enables Indian AI talent and solutions to have a worldwide impact.\n",
    "\n",
    "4. Government Initiatives and Policies\n",
    "\n",
    "The Indian government is playing a proactive role in supporting AI adoption through funding, infrastructure, and policy frameworks. Programs like 'Responsible AI for Social Empowerment (RAISE)', AI for All, and Digital India aim to democratize access to AI and ensure its ethical and inclusive development.\n",
    "\n",
    "Moreover, government-backed initiatives like IndiaAI and SAMARTH (Smart Automation and Advanced Manufacturing Hub) seek to foster AI innovation and application in public services and manufacturing. These initiatives are crucial in integrating AI into India’s socio-economic fabric.\n",
    "\n",
    "5. Challenges and the Way Forward\n",
    "\n",
    "Despite its progress, India faces challenges in realizing its full potential in AI. These include:\n",
    "\n",
    "Data availability and quality: Reliable and annotated datasets are crucial for training AI models.\n",
    "\n",
    "Skilling and education: While talent is abundant, there is a need for upskilling and re-skilling the workforce in AI technologies.\n",
    "\n",
    "Ethical and regulatory frameworks: Ensuring responsible use of AI, data privacy, and transparency is vital.\n",
    "\n",
    "To overcome these hurdles, India must invest in AI infrastructure, promote public-private partnerships, and formulate clear policies that encourage innovation while safeguarding public interest.\n",
    "\n",
    "Conclusion\n",
    "\n",
    "India stands at a crucial juncture in the AI revolution. With a clear strategic vision, strong talent base, vibrant startup ecosystem, and growing international collaborations, India is well-positioned to become a global leader in Artificial Intelligence. By focusing on inclusive and responsible AI development, India can leverage this transformative technology to address its unique challenges and contribute meaningfully to the global AI landscape.\n",
    "\"\"\""
   ]
  },
  {
   "cell_type": "code",
   "execution_count": null,
   "id": "1151634d",
   "metadata": {},
   "outputs": [],
   "source": [
    "# State of the UPSC candidate\n",
    "class UPSCState(TypedDict):\n",
    "    essay: str\n",
    "    COT_feedback: str                # Clearity of thoughts\n",
    "    DOA_feedback: str                # Depth of Analysis\n",
    "    language_feedback: str           # Language\n",
    "    final_feedback: str\n",
    "\n",
    "    individual_scores: Annotated[list[int], operator.add]\n",
    "    avg_score: float"
   ]
  },
  {
   "cell_type": "code",
   "execution_count": 21,
   "id": "9687351c",
   "metadata": {},
   "outputs": [],
   "source": [
    "def evaluate_language(state: UPSCState):\n",
    "    prompt = f'Evaluate the language quality of the following essay and provide feedback and assign a score out of 10 \\n {state['essay']}'\n",
    "    output = structured_model.invoke(prompt)\n",
    "    return {'language_feedback':output.feedback, 'individual_scores':[output.score]}"
   ]
  },
  {
   "cell_type": "code",
   "execution_count": 22,
   "id": "4138231d",
   "metadata": {},
   "outputs": [],
   "source": [
    "def evaluate_analysis(state: UPSCState):\n",
    "    prompt = f'Evaluate the depth of the following essay and provide feedback and assign a score out of 10 \\n {state['essay']}'\n",
    "    output = structured_model.invoke(prompt)\n",
    "    return {'DOA_feedback':output.feedback, 'individual_scores':[output.score]}"
   ]
  },
  {
   "cell_type": "code",
   "execution_count": 30,
   "id": "93b1c21b",
   "metadata": {},
   "outputs": [],
   "source": [
    "def evaluate_thought(state: UPSCState):\n",
    "    prompt = f'Evaluate the clarity of thought in the following essay and provide feedback and assign a score out of 10 \\n {state['essay']}'\n",
    "    output = structured_model.invoke(prompt)\n",
    "    return {'COT_feedback':output.feedback, 'individual_scores':[output.score]}"
   ]
  },
  {
   "cell_type": "code",
   "execution_count": 27,
   "id": "21c84234",
   "metadata": {},
   "outputs": [],
   "source": [
    "def final_evaluation(state: UPSCState):\n",
    "    # summary feedback\n",
    "    prompt = f\"\"\"Based on the following feedbacks create a summarized feedback \\n \n",
    "    language_feedback - {state['language_feedback']} \\n \n",
    "    depth of analysis - {state['DOA_feedback']} \\n \n",
    "    clarity of thought feedback - {state['COT_feedback']}\"\"\"\n",
    "    overall_feedback = model.invoke(prompt).content\n",
    "    \n",
    "    # calculate average\n",
    "    avg_score = sum(state['individual_scores'])/len(state['individual_scores'])\n",
    "\n",
    "    return {'final_feedback':overall_feedback, 'avg_score':avg_score}"
   ]
  },
  {
   "cell_type": "code",
   "execution_count": 32,
   "id": "22a4571b",
   "metadata": {},
   "outputs": [],
   "source": [
    "# define graph\n",
    "graph = StateGraph(UPSCState)\n",
    "\n",
    "# add nodes\n",
    "graph.add_node('evaluate_language', evaluate_language)\n",
    "graph.add_node('evaluate_analysis', evaluate_analysis)\n",
    "graph.add_node('evaluate_thought',  evaluate_thought)\n",
    "graph.add_node('final_evaluation',  final_evaluation)\n",
    "\n",
    "# add edges\n",
    "graph.add_edge(START,'evaluate_language')\n",
    "graph.add_edge(START,'evaluate_analysis')\n",
    "graph.add_edge(START,'evaluate_thought')\n",
    "\n",
    "graph.add_edge('evaluate_language','final_evaluation')\n",
    "graph.add_edge('evaluate_analysis','final_evaluation')\n",
    "graph.add_edge('evaluate_thought','final_evaluation')\n",
    "\n",
    "graph.add_edge('final_evaluation', END)\n",
    "\n",
    "# compile\n",
    "workflow = graph.compile()"
   ]
  },
  {
   "cell_type": "code",
   "execution_count": 33,
   "id": "83382618",
   "metadata": {},
   "outputs": [],
   "source": [
    "initial_state = {\n",
    "    'essay': essay,\n",
    "}\n",
    "\n",
    "final_state = workflow.invoke(initial_state)"
   ]
  },
  {
   "cell_type": "code",
   "execution_count": 34,
   "id": "6eedbfa2",
   "metadata": {},
   "outputs": [
    {
     "data": {
      "text/plain": [
       "{'essay': \"\\nRole of India in Artificial Intelligence\\n\\nArtificial Intelligence (AI) is transforming the global landscape across industries such as healthcare, agriculture, education, transportation, and governance. As one of the world's most populous and rapidly developing nations, India is poised to play a pivotal role in shaping the future of AI, both within its borders and on the global stage. With a robust technology ecosystem, a vast talent pool, and increasing government support, India is emerging as a key player in the AI revolution.\\n\\n1. India's Strategic Vision for AI\\n\\nThe Government of India has recognized AI as a strategic technology with the potential to drive economic growth and social inclusion. The National Strategy for Artificial Intelligence, launched by NITI Aayog in 2018, laid the foundation for AI development in the country. The strategy identifies five key sectors where AI can have the most significant impact: healthcare, agriculture, education, smart mobility, and smart cities. The vision is to position India not only as a consumer of AI technology but also as a global hub for AI development and deployment.\\n\\n2. Growing AI Talent and Research\\n\\nIndia produces one of the largest numbers of STEM (Science, Technology, Engineering, and Mathematics) graduates in the world. This vast talent pool is instrumental in fueling AI research and innovation. Leading Indian institutes like the Indian Institutes of Technology (IITs), Indian Institute of Science (IISc), and several private universities are investing in AI-focused research and offering specialized courses.\\n\\nAdditionally, India has seen a surge in AI research publications, patents, and startup activity. Collaborations between academia, industry, and government agencies are enhancing India's AI capabilities. Initiatives like the Centre for Artificial Intelligence and Robotics (CAIR) and partnerships with global tech firms further reinforce India’s R&D efforts.\\n\\n3. AI Startups and Industry Growth\\n\\nIndia has a rapidly growing AI startup ecosystem. Cities like Bangalore, Hyderabad, Pune, and Delhi are becoming hubs for AI-based innovation. These startups are working on solutions ranging from predictive healthcare diagnostics to precision agriculture, automated legal services, and language translation tools.\\n\\nMajor Indian IT companies such as TCS, Infosys, Wipro, and HCL are also heavily investing in AI, integrating it into their services and developing AI-powered platforms. Their global reach enables Indian AI talent and solutions to have a worldwide impact.\\n\\n4. Government Initiatives and Policies\\n\\nThe Indian government is playing a proactive role in supporting AI adoption through funding, infrastructure, and policy frameworks. Programs like 'Responsible AI for Social Empowerment (RAISE)', AI for All, and Digital India aim to democratize access to AI and ensure its ethical and inclusive development.\\n\\nMoreover, government-backed initiatives like IndiaAI and SAMARTH (Smart Automation and Advanced Manufacturing Hub) seek to foster AI innovation and application in public services and manufacturing. These initiatives are crucial in integrating AI into India’s socio-economic fabric.\\n\\n5. Challenges and the Way Forward\\n\\nDespite its progress, India faces challenges in realizing its full potential in AI. These include:\\n\\nData availability and quality: Reliable and annotated datasets are crucial for training AI models.\\n\\nSkilling and education: While talent is abundant, there is a need for upskilling and re-skilling the workforce in AI technologies.\\n\\nEthical and regulatory frameworks: Ensuring responsible use of AI, data privacy, and transparency is vital.\\n\\nTo overcome these hurdles, India must invest in AI infrastructure, promote public-private partnerships, and formulate clear policies that encourage innovation while safeguarding public interest.\\n\\nConclusion\\n\\nIndia stands at a crucial juncture in the AI revolution. With a clear strategic vision, strong talent base, vibrant startup ecosystem, and growing international collaborations, India is well-positioned to become a global leader in Artificial Intelligence. By focusing on inclusive and responsible AI development, India can leverage this transformative technology to address its unique challenges and contribute meaningfully to the global AI landscape.\\n\",\n",
       " 'COT_feedback': \"The essay provides a well-structured analysis of India's role in the development and adoption of artificial intelligence (AI). Each section clearly outlines different aspects of India's AI landscape, from governmental strategies to industry growth and challenges. The use of headings effectively segments the information, making it easy for the reader to navigate through the arguments presented. \\n\\nHowever, some areas could be enhanced for greater clarity. For example, while the essay lists challenges facing AI development in India, it could benefit from a more detailed exploration of potential solutions for overcoming these challenges. This would provide a more comprehensive view of the situation and strengthen the overall argument. Additionally, some sentences could be simplified to improve readability; simplifying complex phrases can help ensure clarity. \\n\\nOverall, the essay does a good job of discussing India's strategic goals and actions in the AI space, but it would be improved with more depth in certain areas and a focus on actionable solutions to challenges. \\n\\nIn terms of clarity of thought, I would assign this essay a score of 8 out of 10.\",\n",
       " 'DOA_feedback': \"The essay provides a comprehensive overview of India's role in artificial intelligence, covering various aspects such as government policies, talent development, and industry growth. Each section effectively summarizes the opportunities and challenges India faces in the AI landscape. However, the analysis lacks depth in discussing specific examples or case studies that could better illustrate India's advancements in AI, such as notable startup successes or government projects. While the structure is well-organized, the essay could benefit from more critical analysis and a deeper exploration of the societal implications of AI in India. Additionally, mentioning India's global collaborations and partnerships in more detail would enrich the discussion. Overall, it presents a good foundation but could use more illustrative content to enhance depth.\",\n",
       " 'language_feedback': \"The essay provides a comprehensive overview of India's role in Artificial Intelligence, systematically covering its strategic vision, growing talent pool, startup ecosystem, government initiatives, and existing challenges. The structure is logical and well-organized, with clear headings that guide the reader through various points. The language used is formal and articulate, suitable for an academic or professional audience, with appropriate terminology related to AI and technology. However, some sections could benefit from greater depth and specific examples to enhance the overall argument. For instance, the discussion on AI startups could include notable examples or case studies to solidify the claims made. Additionally, minor grammatical issues and the repetitive phrase structure in some paragraphs detract from the overall fluency of the essay. Overall, it successfully conveys the importance of AI in India’s future, though polishing certain areas could elevate its effectiveness.\",\n",
       " 'final_feedback': \"### Summarized Feedback\\n\\nThe essay offers a well-structured and comprehensive overview of India's role in artificial intelligence (AI), effectively addressing key components such as government initiatives, talent development, and the startup ecosystem. The organization with clear headings enhances readability, making it easy for the audience to follow the various arguments presented.\\n\\nHowever, there are several areas for improvement. The analysis would benefit from greater depth, particularly through the inclusion of specific examples or case studies to illustrate India's advancements in AI. This could encompass notable startup successes or significant government projects. Additionally, a more thorough discussion of the societal implications of AI, as well as India’s global collaborations, would enrich the essay’s content.\\n\\nWhile the essay presents a clear outline of challenges facing AI in India, it could be strengthened by offering more detailed exploration of potential solutions to these challenges. Some sentences are complex and could be simplified to enhance clarity and readability.\\n\\nOverall, the essay successfully conveys the significance of AI in shaping India's future but could elevate its effectiveness through deeper analysis and actionable suggestions. A score of 8 out of 10 reflects its clarity of thought and structure.\",\n",
       " 'individual_scores': [7, 8, 8],\n",
       " 'avg_score': 7.666666666666667}"
      ]
     },
     "execution_count": 34,
     "metadata": {},
     "output_type": "execute_result"
    }
   ],
   "source": [
    "final_state"
   ]
  },
  {
   "cell_type": "code",
   "execution_count": null,
   "id": "c27de037",
   "metadata": {},
   "outputs": [],
   "source": []
  }
 ],
 "metadata": {
  "kernelspec": {
   "display_name": "venv",
   "language": "python",
   "name": "python3"
  },
  "language_info": {
   "codemirror_mode": {
    "name": "ipython",
    "version": 3
   },
   "file_extension": ".py",
   "mimetype": "text/x-python",
   "name": "python",
   "nbconvert_exporter": "python",
   "pygments_lexer": "ipython3",
   "version": "3.13.5"
  }
 },
 "nbformat": 4,
 "nbformat_minor": 5
}
